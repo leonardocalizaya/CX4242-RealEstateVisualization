{
 "cells": [
  {
   "cell_type": "code",
   "execution_count": 10,
   "id": "f3ec2223",
   "metadata": {},
   "outputs": [
    {
     "data": {
      "text/plain": [
       "6     1996-01-31\n",
       "7     1996-02-29\n",
       "8     1996-03-31\n",
       "9     1996-04-30\n",
       "10    1996-05-31\n",
       "         ...    \n",
       "292   2019-11-30\n",
       "293   2019-12-31\n",
       "294   2020-01-31\n",
       "295   2020-02-29\n",
       "296   2020-03-31\n",
       "Name: Date, Length: 291, dtype: datetime64[ns]"
      ]
     },
     "execution_count": 10,
     "metadata": {},
     "output_type": "execute_result"
    }
   ],
   "source": [
    "import pandas as pd\n",
    "import matplotlib.pyplot as plt\n",
    "from statsmodels.graphics.tsaplots import plot_acf, plot_pacf\n",
    "from statsmodels.tsa.arima_model import ARIMA\n",
    "from statsmodels.tsa.stattools import adfuller\n",
    "import statsmodels.api as sm\n",
    "from pandas.tseries.offsets import DateOffset\n",
    "\n",
    "# csv_import = 'State_Zhvi_1bedroom.csv'\n",
    "# csv_import = 'State_Zhvi_2bedroom.csv'\n",
    "# csv_import = 'State_Zhvi_3bedroom.csv'\n",
    "# csv_import = 'State_Zhvi_4bedroom.csv'\n",
    "csv_import = 'State_Zhvi_5BedroomOrMore.csv'\n",
    "\n",
    "data = pd.read_csv(csv_import, header = None)\n",
    "data_refined = data.iloc[:,5:]\n",
    "state_list = data_refined[5].tolist()[1:]\n",
    "\n",
    "data_refined = data.iloc[:,6:].T\n",
    "\n",
    "df = data_refined.rename(columns = {0: \"Date\"})\n",
    "\n",
    "for index, state in enumerate(state_list):\n",
    "    df.rename(columns = {index + 1 : state}, inplace = True)\n",
    "    \n",
    "df[\"CA\"] = pd.to_numeric(df[\"CA\"])\n",
    "df[\"Date\"] = pd.to_datetime(df[\"Date\"])\n",
    "formatted_df = df[\"Date\"].dt.strftime(\"%m/%d/%y\")\n",
    "df.set_index(\"Date\", inplace = True)\n",
    "model = sm.tsa.statespace.SARIMAX(df[\"CA\"], order = (0, 1, 1), seasonal_order = (1, 1, 0, 12))\n",
    "model_fit = model.fit()\n",
    "future_dates = [df.index[-1] + DateOffset(months = x) for x in range(0,60)]\n",
    "future_datest_df = pd.DataFrame(index = future_dates[1:], columns = df.columns)\n",
    "future_df = pd.concat([df,future_datest_df])\n",
    "future_df['CA_forecast'] = model_fit.predict(start = 291, end = 351, dynamic = True)\n",
    "# future_df[['CA', 'CA_forecast']].plot(figsize=(12, 8))\n",
    "\n",
    "for state in state_list[1:]:\n",
    "    df[state] = pd.to_numeric(df[state])\n",
    "    model = sm.tsa.statespace.SARIMAX(df[state], order = (0, 1, 1), seasonal_order = (1, 1, 0, 12))\n",
    "    model_fit = model.fit()\n",
    "    future_df[state + \"_forecast\"] = model_fit.predict(start = 291, end = 351, dynamic = True)\n",
    "\n",
    "future_df.to_csv(\"forecast_\" + csv_import)"
   ]
  },
  {
   "cell_type": "code",
   "execution_count": null,
   "id": "a8f7e8e0",
   "metadata": {},
   "outputs": [],
   "source": []
  }
 ],
 "metadata": {
  "kernelspec": {
   "display_name": "Python 3 (ipykernel)",
   "language": "python",
   "name": "python3"
  },
  "language_info": {
   "codemirror_mode": {
    "name": "ipython",
    "version": 3
   },
   "file_extension": ".py",
   "mimetype": "text/x-python",
   "name": "python",
   "nbconvert_exporter": "python",
   "pygments_lexer": "ipython3",
   "version": "3.7.11"
  }
 },
 "nbformat": 4,
 "nbformat_minor": 5
}
